{
  "nbformat": 4,
  "nbformat_minor": 0,
  "metadata": {
    "colab": {
      "provenance": [],
      "authorship_tag": "ABX9TyMPDOlbvLbMk8PJSzbI+SF4",
      "include_colab_link": true
    },
    "kernelspec": {
      "name": "python3",
      "display_name": "Python 3"
    },
    "language_info": {
      "name": "python"
    }
  },
  "cells": [
    {
      "cell_type": "markdown",
      "metadata": {
        "id": "view-in-github",
        "colab_type": "text"
      },
      "source": [
        "<a href=\"https://colab.research.google.com/github/etwalsaado/Practice/blob/main/basics_lists.ipynb\" target=\"_parent\"><img src=\"https://colab.research.google.com/assets/colab-badge.svg\" alt=\"Open In Colab\"/></a>"
      ]
    },
    {
      "cell_type": "code",
      "source": [
        "x = 10\n",
        "y = 3.5\n",
        "name = \"Sara\"\n",
        "is_ok = True\n",
        "print(\"x:\", x, \"y:\", y)\n",
        "print(name.upper())\n",
        "print(\"Is Ok\", is_ok)"
      ],
      "metadata": {
        "colab": {
          "base_uri": "https://localhost:8080/"
        },
        "id": "SKriITHPq3mE",
        "outputId": "ec1031dd-afa2-4844-b144-c145ee76a445"
      },
      "execution_count": 1,
      "outputs": [
        {
          "output_type": "stream",
          "name": "stdout",
          "text": [
            "x: 10 y: 3.5\n",
            "SARA\n",
            "Is Ok True\n"
          ]
        }
      ]
    },
    {
      "cell_type": "code",
      "source": [
        "a = 7\n",
        "b = 2\n",
        "print(a+b, a*b, a/b)\n",
        "print(f\"hello {name},sum is {a+b}\")"
      ],
      "metadata": {
        "colab": {
          "base_uri": "https://localhost:8080/"
        },
        "id": "pjK2GKyorjVs",
        "outputId": "2ed40752-d542-46b1-d764-0df91a484d02"
      },
      "execution_count": 2,
      "outputs": [
        {
          "output_type": "stream",
          "name": "stdout",
          "text": [
            "9 14 3.5\n",
            "hello Sara,sum is 9\n"
          ]
        }
      ]
    },
    {
      "cell_type": "code",
      "source": [
        "score = 75\n",
        "if score >= 90:\n",
        "  print(\"A\")\n",
        "elif score >= 75:\n",
        "  print(\"B\")\n",
        "else:\n",
        "  print(\"C\")"
      ],
      "metadata": {
        "colab": {
          "base_uri": "https://localhost:8080/"
        },
        "id": "jU7xBar1sFLR",
        "outputId": "b9636545-7119-408f-8fce-8d7d2455690f"
      },
      "execution_count": 4,
      "outputs": [
        {
          "output_type": "stream",
          "name": "stdout",
          "text": [
            "B\n"
          ]
        }
      ]
    },
    {
      "cell_type": "code",
      "source": [
        "n = 13\n",
        "if n % 2 == 0:\n",
        "  print(\"Even\")\n",
        "else:\n",
        "  print(\"Odd\")"
      ],
      "metadata": {
        "colab": {
          "base_uri": "https://localhost:8080/"
        },
        "id": "EbFjyUEXslIM",
        "outputId": "26a08f5c-3af0-4852-c319-2cd1fe00dde8"
      },
      "execution_count": 5,
      "outputs": [
        {
          "output_type": "stream",
          "name": "stdout",
          "text": [
            "Odd\n"
          ]
        }
      ]
    },
    {
      "cell_type": "code",
      "source": [
        "for i in range(5):\n",
        "  print(\"i:\", i)"
      ],
      "metadata": {
        "colab": {
          "base_uri": "https://localhost:8080/"
        },
        "id": "1g0qJBTQs99x",
        "outputId": "a3c37098-6407-4afb-f6a2-817f73833fdf"
      },
      "execution_count": 6,
      "outputs": [
        {
          "output_type": "stream",
          "name": "stdout",
          "text": [
            "i: 0\n",
            "i: 1\n",
            "i: 2\n",
            "i: 3\n",
            "i: 4\n"
          ]
        }
      ]
    },
    {
      "cell_type": "code",
      "source": [
        "i = 0\n",
        "while i < 5:\n",
        "   if i == 3:\n",
        "       i += 1\n",
        "       continue\n",
        "   print(i)\n",
        "   i += 1"
      ],
      "metadata": {
        "colab": {
          "base_uri": "https://localhost:8080/"
        },
        "id": "iJgz0pmitNwI",
        "outputId": "a4c7cccb-cfbc-4887-b88c-7a18615a9ded"
      },
      "execution_count": 24,
      "outputs": [
        {
          "output_type": "stream",
          "name": "stdout",
          "text": [
            "0\n",
            "1\n",
            "2\n",
            "4\n"
          ]
        }
      ]
    },
    {
      "cell_type": "code",
      "source": [
        "fruits = [\"orange\", \"banana\", \"apple\"]\n",
        "fruits.append(\"mango\")"
      ],
      "metadata": {
        "id": "PMJS-e61vSkf"
      },
      "execution_count": 29,
      "outputs": []
    },
    {
      "cell_type": "code",
      "source": [
        "print(fruits[0])"
      ],
      "metadata": {
        "colab": {
          "base_uri": "https://localhost:8080/"
        },
        "id": "N6BThPBqwDbh",
        "outputId": "e1753746-dd8a-497c-e716-f54229d92f55"
      },
      "execution_count": 30,
      "outputs": [
        {
          "output_type": "stream",
          "name": "stdout",
          "text": [
            "orange\n"
          ]
        }
      ]
    },
    {
      "cell_type": "code",
      "source": [
        "for i in fruits:\n",
        "  print(i)"
      ],
      "metadata": {
        "colab": {
          "base_uri": "https://localhost:8080/"
        },
        "id": "Wn_gc7VTwUdh",
        "outputId": "a04f7838-698f-40c1-e93c-54992c1682a7"
      },
      "execution_count": 31,
      "outputs": [
        {
          "output_type": "stream",
          "name": "stdout",
          "text": [
            "orange\n",
            "banana\n",
            "apple\n",
            "mango\n"
          ]
        }
      ]
    },
    {
      "cell_type": "code",
      "source": [
        "nums = [5, 2, 9, 1, 7]\n",
        "total = 0\n",
        "max_v = nums[0]\n",
        "for n in nums:\n",
        "  total += n\n",
        "  if n > max_v:\n",
        "    max_v = n\n",
        "print(total, max_v)"
      ],
      "metadata": {
        "colab": {
          "base_uri": "https://localhost:8080/"
        },
        "id": "MiRCkyodxNX0",
        "outputId": "c001d2f1-88c6-4563-bd96-4bbd73653e9e"
      },
      "execution_count": 36,
      "outputs": [
        {
          "output_type": "stream",
          "name": "stdout",
          "text": [
            "24 9\n"
          ]
        }
      ]
    },
    {
      "cell_type": "code",
      "source": [
        "list = range(1,21)\n",
        "new_list = []\n",
        "for n in list:\n",
        "  if n % 2 == 0:\n",
        "    new_list.append(n)\n",
        "print(new_list)"
      ],
      "metadata": {
        "colab": {
          "base_uri": "https://localhost:8080/"
        },
        "id": "qDvyCjlKx9Es",
        "outputId": "cd34034e-cde4-4d89-f144-93ee5c33e8cc"
      },
      "execution_count": 40,
      "outputs": [
        {
          "output_type": "stream",
          "name": "stdout",
          "text": [
            "[2, 4, 6, 8, 10, 12, 14, 16, 18, 20]\n"
          ]
        }
      ]
    },
    {
      "cell_type": "code",
      "source": [
        "age = 17\n",
        "if age <= 18:\n",
        "  print(\"Allowed\")\n",
        "else:\n",
        "  print(\"Not allowed\")"
      ],
      "metadata": {
        "colab": {
          "base_uri": "https://localhost:8080/"
        },
        "id": "vzEii7vw5qU7",
        "outputId": "6f59c421-03e5-497a-d0db-5ab71feee26e"
      },
      "execution_count": 41,
      "outputs": [
        {
          "output_type": "stream",
          "name": "stdout",
          "text": [
            "Allowed\n"
          ]
        }
      ]
    },
    {
      "cell_type": "code",
      "source": [
        "x = -3\n",
        "if x > 0:\n",
        "  print(\"Positive\")\n",
        "elif x == 0:\n",
        "  print(\"Zero\")\n",
        "else:\n",
        "  print(\"Negative\")"
      ],
      "metadata": {
        "colab": {
          "base_uri": "https://localhost:8080/"
        },
        "id": "nznlszuX8BC9",
        "outputId": "0940be8f-0c32-4c3e-952f-fb970827e1ef"
      },
      "execution_count": 42,
      "outputs": [
        {
          "output_type": "stream",
          "name": "stdout",
          "text": [
            "Negative\n"
          ]
        }
      ]
    },
    {
      "cell_type": "code",
      "source": [
        "temp = 33\n",
        "if temp >= 30:\n",
        "  print(\"Hot\")\n",
        "elif temp < 20:\n",
        "  print(\"Cold\")\n",
        "else:\n",
        "  print(\"Warm\")"
      ],
      "metadata": {
        "colab": {
          "base_uri": "https://localhost:8080/"
        },
        "id": "9pOfBBZy8o4A",
        "outputId": "d10a881f-5be4-43b9-a0a9-93c4165cc332"
      },
      "execution_count": 43,
      "outputs": [
        {
          "output_type": "stream",
          "name": "stdout",
          "text": [
            "Hot\n"
          ]
        }
      ]
    },
    {
      "cell_type": "code",
      "source": [
        "score = [72, 65, 90, 85, 78]\n",
        "for x in score:\n",
        "  if x >= 90:\n",
        "    print(\"A\")\n",
        "  elif x >= 75:\n",
        "    print(\"B\")\n",
        "  else:\n",
        "    print(\"C\")"
      ],
      "metadata": {
        "colab": {
          "base_uri": "https://localhost:8080/"
        },
        "id": "kZbaUYO29BC8",
        "outputId": "8aef677a-c442-486e-d123-8ed8625706a7"
      },
      "execution_count": 44,
      "outputs": [
        {
          "output_type": "stream",
          "name": "stdout",
          "text": [
            "C\n",
            "C\n",
            "A\n",
            "B\n",
            "B\n"
          ]
        }
      ]
    },
    {
      "cell_type": "code",
      "source": [
        "list = [1,2,3,4,5,6,7,8,9,10]\n",
        "total = 0\n",
        "for x in list:\n",
        "  if x % 2 == 0:\n",
        "    total += x\n",
        "print(total)"
      ],
      "metadata": {
        "colab": {
          "base_uri": "https://localhost:8080/"
        },
        "id": "vvSYLM2D9QFZ",
        "outputId": "f928249a-40df-4a68-ef7c-24db0f3495c4"
      },
      "execution_count": 45,
      "outputs": [
        {
          "output_type": "stream",
          "name": "stdout",
          "text": [
            "30\n"
          ]
        }
      ]
    },
    {
      "cell_type": "code",
      "source": [
        "list = [1,2,3,4,5,6,7,8,9,10]\n",
        "sum = 0\n",
        "for x in list:\n",
        "  if x % 2 == 0:\n",
        "    sum += 1\n",
        "print(sum)"
      ],
      "metadata": {
        "colab": {
          "base_uri": "https://localhost:8080/"
        },
        "id": "z2WKfkIC9kIt",
        "outputId": "f83c042f-0842-445d-dc04-0895fcad83f7"
      },
      "execution_count": 46,
      "outputs": [
        {
          "output_type": "stream",
          "name": "stdout",
          "text": [
            "5\n"
          ]
        }
      ]
    },
    {
      "cell_type": "code",
      "source": [
        "fruits = [\"orange\", \"banana\", \"apple\"]\n",
        "print(fruits[::-1])"
      ],
      "metadata": {
        "colab": {
          "base_uri": "https://localhost:8080/"
        },
        "id": "6xRh_2Vc9u09",
        "outputId": "02996fe6-beca-4ce0-b0b4-9035f8ccb318"
      },
      "execution_count": 47,
      "outputs": [
        {
          "output_type": "stream",
          "name": "stdout",
          "text": [
            "['apple', 'banana', 'orange']\n"
          ]
        }
      ]
    },
    {
      "cell_type": "code",
      "source": [
        "fruits = [\"apple\", \"banana\", \"orange\"]\n",
        "fruits[1] = \"avocado\"\n",
        "print(fruits)"
      ],
      "metadata": {
        "colab": {
          "base_uri": "https://localhost:8080/"
        },
        "id": "WAubpDZU-mkB",
        "outputId": "64cd18b1-6786-4799-96fd-6c308e58f60d"
      },
      "execution_count": 62,
      "outputs": [
        {
          "output_type": "stream",
          "name": "stdout",
          "text": [
            "['apple', 'avocado', 'orange']\n"
          ]
        }
      ]
    },
    {
      "cell_type": "code",
      "source": [
        "list = range(1,31)\n",
        "new_list = []\n",
        "for x in list:\n",
        "  if x % 3 == 0:\n",
        "   new_list.append(x)\n",
        "print(new_list)"
      ],
      "metadata": {
        "colab": {
          "base_uri": "https://localhost:8080/"
        },
        "id": "BoqPVK_fAGRb",
        "outputId": "d0d1129d-05fe-458f-ddf3-1b2499f73e23"
      },
      "execution_count": 67,
      "outputs": [
        {
          "output_type": "stream",
          "name": "stdout",
          "text": [
            "[3, 6, 9, 12, 15, 18, 21, 24, 27, 30]\n"
          ]
        }
      ]
    },
    {
      "cell_type": "code",
      "source": [
        "square = range(1,10)\n",
        "for x in square:\n",
        "  print(x**2)"
      ],
      "metadata": {
        "colab": {
          "base_uri": "https://localhost:8080/"
        },
        "id": "WPOK4q31BCLq",
        "outputId": "045573fc-c4c7-4a8c-e09f-a353cb993635"
      },
      "execution_count": 68,
      "outputs": [
        {
          "output_type": "stream",
          "name": "stdout",
          "text": [
            "1\n",
            "4\n",
            "9\n",
            "16\n",
            "25\n",
            "36\n",
            "49\n",
            "64\n",
            "81\n"
          ]
        }
      ]
    },
    {
      "cell_type": "code",
      "source": [
        "square = []\n",
        "for x in range(1,10):\n",
        "  square.append(x**2)\n",
        "print(square)"
      ],
      "metadata": {
        "colab": {
          "base_uri": "https://localhost:8080/"
        },
        "id": "tDrRL86WCmOf",
        "outputId": "d02682ca-b98f-49f5-9c57-d7c1fb811e00"
      },
      "execution_count": 69,
      "outputs": [
        {
          "output_type": "stream",
          "name": "stdout",
          "text": [
            "[1, 4, 9, 16, 25, 36, 49, 64, 81]\n"
          ]
        }
      ]
    },
    {
      "cell_type": "code",
      "source": [],
      "metadata": {
        "id": "S1J8xOUMCr7Y"
      },
      "execution_count": null,
      "outputs": []
    }
  ]
}